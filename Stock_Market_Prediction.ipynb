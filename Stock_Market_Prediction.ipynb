{
 "cells": [
  {
   "cell_type": "markdown",
   "metadata": {},
   "source": [
    "Reference\n",
    "\n",
    "Ehsan Hoseinzade, Saman Haratizadeh,\n",
    "CNNpred: CNN-based stock market prediction using a diverse set of variables,\n",
    "Expert Systems with Applications,\n",
    "Volume 129,\n",
    "2019,\n",
    "Pages 273-285,\n",
    "ISSN 0957-4174,\n",
    "https://doi.org/10.1016/j.eswa.2019.03.029."
   ]
  },
  {
   "cell_type": "markdown",
   "metadata": {},
   "source": [
    "# <center><span style=\"color:blue\">*Results Summary and Comparison to Reference*</span></center>"
   ]
  },
  {
   "cell_type": "code",
   "execution_count": 216,
   "metadata": {},
   "outputs": [
    {
     "data": {
      "text/html": [
       "<div>\n",
       "<style scoped>\n",
       "    .dataframe tbody tr th:only-of-type {\n",
       "        vertical-align: middle;\n",
       "    }\n",
       "\n",
       "    .dataframe tbody tr th {\n",
       "        vertical-align: top;\n",
       "    }\n",
       "\n",
       "    .dataframe thead th {\n",
       "        text-align: right;\n",
       "    }\n",
       "</style>\n",
       "<table border=\"1\" class=\"dataframe\">\n",
       "  <thead>\n",
       "    <tr style=\"text-align: right;\">\n",
       "      <th></th>\n",
       "      <th>Replica 2D CNN</th>\n",
       "      <th>Reference 2D CNN</th>\n",
       "      <th>Replica 3D CNN</th>\n",
       "      <th>Reference 3D CNN</th>\n",
       "    </tr>\n",
       "  </thead>\n",
       "  <tbody>\n",
       "    <tr>\n",
       "      <th>DJI</th>\n",
       "      <td>0.4965</td>\n",
       "      <td>0.4975</td>\n",
       "      <td>0.4989</td>\n",
       "      <td>0.4979</td>\n",
       "    </tr>\n",
       "    <tr>\n",
       "      <th>NASDAQ</th>\n",
       "      <td>0.5253</td>\n",
       "      <td>0.4944</td>\n",
       "      <td>0.4916</td>\n",
       "      <td>0.4931</td>\n",
       "    </tr>\n",
       "    <tr>\n",
       "      <th>NYSE</th>\n",
       "      <td>0.5429</td>\n",
       "      <td>0.4885</td>\n",
       "      <td>0.4877</td>\n",
       "      <td>0.4751</td>\n",
       "    </tr>\n",
       "    <tr>\n",
       "      <th>RUSSELL</th>\n",
       "      <td>0.5184</td>\n",
       "      <td>0.5002</td>\n",
       "      <td>0.4994</td>\n",
       "      <td>0.4846</td>\n",
       "    </tr>\n",
       "    <tr>\n",
       "      <th>S&amp;P500</th>\n",
       "      <td>0.5418</td>\n",
       "      <td>0.4914</td>\n",
       "      <td>0.5050</td>\n",
       "      <td>0.4837</td>\n",
       "    </tr>\n",
       "  </tbody>\n",
       "</table>\n",
       "</div>"
      ],
      "text/plain": [
       "         Replica 2D CNN  Reference 2D CNN  Replica 3D CNN  Reference 3D CNN\n",
       "DJI              0.4965            0.4975          0.4989            0.4979\n",
       "NASDAQ           0.5253            0.4944          0.4916            0.4931\n",
       "NYSE             0.5429            0.4885          0.4877            0.4751\n",
       "RUSSELL          0.5184            0.5002          0.4994            0.4846\n",
       "S&P500           0.5418            0.4914          0.5050            0.4837"
      ]
     },
     "execution_count": 216,
     "metadata": {},
     "output_type": "execute_result"
    }
   ],
   "source": [
    "# F1-Macro Score compilation\n",
    "\n",
    "results_df = pd.DataFrame.from_dict(f1_macro_score_2D, orient='index', columns=['Replica 2D CNN'])\n",
    "results_df['Reference 2D CNN'] = [0.4975, 0.4944, 0.4885, 0.5002, 0.4914]\n",
    "results_df['Replica 3D CNN'] = f1_macro_score.values()\n",
    "results_df['Reference 3D CNN'] = [0.4979, 0.4931, 0.4751, 0.4846, 0.4837]\n",
    "\n",
    "pd.options.display.float_format = '{:,.4f}'.format\n",
    "results_df"
   ]
  },
  {
   "cell_type": "markdown",
   "metadata": {},
   "source": [
    "With our own implementation with some modifications to the proposed models, we were able to get slightly better F1-score over the board, compared to numbers reported in the reference study.\n",
    "\n",
    "The performance comparison between 2D CNN and 3D CNN models are also very close to each other, and depending on the training initialization\n",
    "can slightly trade places. F-Score for all entries (at least with our implementation, cannot find this information in the reference) have a\n",
    "+- 0.25 margin.\n",
    "\n",
    "In the reference study, the authors took 1 step further in the result analysis by and implementing a trading simulation using these CNN models. The authors showed that using these models have a lot of potential and are superior than some other previously published models in literature. While we will not be replicating the trading simulation part here (lack of description for the trading simulation), it is expected that our own implementations of the CNN models will be able to achieve similar or even better results in the authors' trading simulation."
   ]
  },
  {
   "cell_type": "markdown",
   "metadata": {},
   "source": [
    "# <center><span style=\"color:blue\">*Install and Import the Necessary Libraries*</span></center>"
   ]
  },
  {
   "cell_type": "code",
   "execution_count": null,
   "metadata": {},
   "outputs": [],
   "source": [
    "#!pip install --upgrade pip\n",
    "#!pip install git\n",
    "#!pip install tensorflow\n",
    "#!pip install --upgrade git+https://github.com/tensorflow/docs"
   ]
  },
  {
   "cell_type": "code",
   "execution_count": 1,
   "metadata": {
    "scrolled": true
   },
   "outputs": [
    {
     "name": "stdout",
     "output_type": "stream",
     "text": [
      "Packages imported in\n"
     ]
    }
   ],
   "source": [
    "import matplotlib as mpl\n",
    "import matplotlib.pyplot as plt\n",
    "import numpy as np\n",
    "import pandas as pd\n",
    "import seaborn as sns\n",
    "import tensorflow as tf\n",
    "import tensorflow_docs as tfdocs\n",
    "import tensorflow_docs.plots\n",
    "import os\n",
    "import datetime\n",
    "from sklearn import metrics\n",
    "from sklearn import preprocessing\n",
    "\n",
    "print('Packages imported in')"
   ]
  },
  {
   "cell_type": "code",
   "execution_count": 2,
   "metadata": {},
   "outputs": [],
   "source": []
  },
  {
   "cell_type": "markdown",
   "metadata": {},
   "source": [
    "# <center><span style=\"color:blue\">*Import, Inspect, and Clean Up Dataset*</span></center>"
   ]
  },
  {
   "cell_type": "code",
   "execution_count": 5,
   "metadata": {},
   "outputs": [
    {
     "name": "stdout",
     "output_type": "stream",
     "text": [
      "All dataframes loaded\n"
     ]
    }
   ],
   "source": [
    "# Load in data\n",
    "df_dji = pd.read_csv('DJI.csv')\n",
    "df_nasdaq = pd.read_csv('NASDAQ.csv')\n",
    "df_nyse = pd.read_csv('NYSE.csv')\n",
    "df_russell = pd.read_csv('RUSSELL.csv')\n",
    "df_sp = pd.read_csv('S&P.csv')\n",
    "\n",
    "print('All dataframes loaded')"
   ]
  },
  {
   "cell_type": "code",
   "execution_count": 6,
   "metadata": {},
   "outputs": [
    {
     "data": {
      "text/html": [
       "<div>\n",
       "<style scoped>\n",
       "    .dataframe tbody tr th:only-of-type {\n",
       "        vertical-align: middle;\n",
       "    }\n",
       "\n",
       "    .dataframe tbody tr th {\n",
       "        vertical-align: top;\n",
       "    }\n",
       "\n",
       "    .dataframe thead th {\n",
       "        text-align: right;\n",
       "    }\n",
       "</style>\n",
       "<table border=\"1\" class=\"dataframe\">\n",
       "  <thead>\n",
       "    <tr style=\"text-align: right;\">\n",
       "      <th></th>\n",
       "      <th>Date</th>\n",
       "      <th>Close</th>\n",
       "      <th>Volume</th>\n",
       "      <th>mom</th>\n",
       "      <th>mom1</th>\n",
       "      <th>mom2</th>\n",
       "      <th>mom3</th>\n",
       "      <th>ROC_5</th>\n",
       "      <th>ROC_10</th>\n",
       "      <th>ROC_15</th>\n",
       "      <th>...</th>\n",
       "      <th>NZD</th>\n",
       "      <th>silver-F</th>\n",
       "      <th>RUSSELL-F</th>\n",
       "      <th>S&amp;P-F</th>\n",
       "      <th>CHF</th>\n",
       "      <th>Dollar index-F</th>\n",
       "      <th>Dollar index</th>\n",
       "      <th>wheat-F</th>\n",
       "      <th>XAG</th>\n",
       "      <th>XAU</th>\n",
       "    </tr>\n",
       "  </thead>\n",
       "  <tbody>\n",
       "    <tr>\n",
       "      <th>0</th>\n",
       "      <td>2009-12-31</td>\n",
       "      <td>10428.049805</td>\n",
       "      <td>NaN</td>\n",
       "      <td>NaN</td>\n",
       "      <td>NaN</td>\n",
       "      <td>NaN</td>\n",
       "      <td>NaN</td>\n",
       "      <td>NaN</td>\n",
       "      <td>NaN</td>\n",
       "      <td>NaN</td>\n",
       "      <td>...</td>\n",
       "      <td>0.03</td>\n",
       "      <td>0.26</td>\n",
       "      <td>-1.08</td>\n",
       "      <td>-1.00</td>\n",
       "      <td>-0.11</td>\n",
       "      <td>-0.08</td>\n",
       "      <td>-0.06</td>\n",
       "      <td>-0.48</td>\n",
       "      <td>0.30</td>\n",
       "      <td>0.39</td>\n",
       "    </tr>\n",
       "    <tr>\n",
       "      <th>1</th>\n",
       "      <td>2010-01-04</td>\n",
       "      <td>10583.959961</td>\n",
       "      <td>NaN</td>\n",
       "      <td>0.014951</td>\n",
       "      <td>NaN</td>\n",
       "      <td>NaN</td>\n",
       "      <td>NaN</td>\n",
       "      <td>NaN</td>\n",
       "      <td>NaN</td>\n",
       "      <td>NaN</td>\n",
       "      <td>...</td>\n",
       "      <td>1.52</td>\n",
       "      <td>3.26</td>\n",
       "      <td>1.61</td>\n",
       "      <td>1.62</td>\n",
       "      <td>-0.57</td>\n",
       "      <td>-0.59</td>\n",
       "      <td>-0.42</td>\n",
       "      <td>3.12</td>\n",
       "      <td>3.91</td>\n",
       "      <td>2.10</td>\n",
       "    </tr>\n",
       "    <tr>\n",
       "      <th>2</th>\n",
       "      <td>2010-01-05</td>\n",
       "      <td>10572.019531</td>\n",
       "      <td>NaN</td>\n",
       "      <td>-0.001128</td>\n",
       "      <td>0.014951</td>\n",
       "      <td>NaN</td>\n",
       "      <td>NaN</td>\n",
       "      <td>NaN</td>\n",
       "      <td>NaN</td>\n",
       "      <td>NaN</td>\n",
       "      <td>...</td>\n",
       "      <td>-0.07</td>\n",
       "      <td>1.96</td>\n",
       "      <td>-0.20</td>\n",
       "      <td>0.31</td>\n",
       "      <td>0.43</td>\n",
       "      <td>0.03</td>\n",
       "      <td>0.12</td>\n",
       "      <td>-0.90</td>\n",
       "      <td>1.42</td>\n",
       "      <td>-0.12</td>\n",
       "    </tr>\n",
       "    <tr>\n",
       "      <th>3</th>\n",
       "      <td>2010-01-06</td>\n",
       "      <td>10573.679688</td>\n",
       "      <td>0.515598</td>\n",
       "      <td>0.000157</td>\n",
       "      <td>-0.001128</td>\n",
       "      <td>0.014951</td>\n",
       "      <td>NaN</td>\n",
       "      <td>NaN</td>\n",
       "      <td>NaN</td>\n",
       "      <td>NaN</td>\n",
       "      <td>...</td>\n",
       "      <td>0.56</td>\n",
       "      <td>2.15</td>\n",
       "      <td>-0.02</td>\n",
       "      <td>0.07</td>\n",
       "      <td>-0.56</td>\n",
       "      <td>-0.24</td>\n",
       "      <td>-0.17</td>\n",
       "      <td>2.62</td>\n",
       "      <td>2.25</td>\n",
       "      <td>1.77</td>\n",
       "    </tr>\n",
       "    <tr>\n",
       "      <th>4</th>\n",
       "      <td>2010-01-07</td>\n",
       "      <td>10606.860352</td>\n",
       "      <td>9.776045</td>\n",
       "      <td>0.003138</td>\n",
       "      <td>0.000157</td>\n",
       "      <td>-0.001128</td>\n",
       "      <td>0.014951</td>\n",
       "      <td>NaN</td>\n",
       "      <td>NaN</td>\n",
       "      <td>NaN</td>\n",
       "      <td>...</td>\n",
       "      <td>-0.72</td>\n",
       "      <td>0.94</td>\n",
       "      <td>0.50</td>\n",
       "      <td>0.40</td>\n",
       "      <td>0.58</td>\n",
       "      <td>0.58</td>\n",
       "      <td>0.54</td>\n",
       "      <td>-1.85</td>\n",
       "      <td>0.22</td>\n",
       "      <td>-0.58</td>\n",
       "    </tr>\n",
       "  </tbody>\n",
       "</table>\n",
       "<p>5 rows × 84 columns</p>\n",
       "</div>"
      ],
      "text/plain": [
       "         Date         Close    Volume       mom      mom1      mom2      mom3  \\\n",
       "0  2009-12-31  10428.049805       NaN       NaN       NaN       NaN       NaN   \n",
       "1  2010-01-04  10583.959961       NaN  0.014951       NaN       NaN       NaN   \n",
       "2  2010-01-05  10572.019531       NaN -0.001128  0.014951       NaN       NaN   \n",
       "3  2010-01-06  10573.679688  0.515598  0.000157 -0.001128  0.014951       NaN   \n",
       "4  2010-01-07  10606.860352  9.776045  0.003138  0.000157 -0.001128  0.014951   \n",
       "\n",
       "   ROC_5  ROC_10  ROC_15  ...   NZD  silver-F  RUSSELL-F  S&P-F   CHF  \\\n",
       "0    NaN     NaN     NaN  ...  0.03      0.26      -1.08  -1.00 -0.11   \n",
       "1    NaN     NaN     NaN  ...  1.52      3.26       1.61   1.62 -0.57   \n",
       "2    NaN     NaN     NaN  ... -0.07      1.96      -0.20   0.31  0.43   \n",
       "3    NaN     NaN     NaN  ...  0.56      2.15      -0.02   0.07 -0.56   \n",
       "4    NaN     NaN     NaN  ... -0.72      0.94       0.50   0.40  0.58   \n",
       "\n",
       "   Dollar index-F  Dollar index  wheat-F   XAG   XAU  \n",
       "0           -0.08         -0.06    -0.48  0.30  0.39  \n",
       "1           -0.59         -0.42     3.12  3.91  2.10  \n",
       "2            0.03          0.12    -0.90  1.42 -0.12  \n",
       "3           -0.24         -0.17     2.62  2.25  1.77  \n",
       "4            0.58          0.54    -1.85  0.22 -0.58  \n",
       "\n",
       "[5 rows x 84 columns]"
      ]
     },
     "execution_count": 6,
     "metadata": {},
     "output_type": "execute_result"
    }
   ],
   "source": [
    "df_dji.head()"
   ]
  },
  {
   "cell_type": "code",
   "execution_count": 7,
   "metadata": {},
   "outputs": [
    {
     "data": {
      "text/plain": [
       "Date       False\n",
       "Close      False\n",
       "Volume     False\n",
       "mom        False\n",
       "mom1       False\n",
       "mom2       False\n",
       "mom3       False\n",
       "ROC_5      False\n",
       "ROC_10     False\n",
       "ROC_15     False\n",
       "ROC_20     False\n",
       "EMA_10     False\n",
       "EMA_20     False\n",
       "EMA_50     False\n",
       "EMA_200    False\n",
       "dtype: bool"
      ]
     },
     "execution_count": 7,
     "metadata": {},
     "output_type": "execute_result"
    }
   ],
   "source": [
    "# The provided data need some clean up\n",
    "# First, we will only consider data from row 200 onward, due to EMA 200 making the first 200 rows having missing value(s)\n",
    "\n",
    "df_dji =df_dji.iloc[199:, ]\n",
    "df_nasdaq = df_nasdaq.iloc[199:, ]\n",
    "df_nyse = df_nyse.iloc[199:, ]\n",
    "df_russell = df_russell.iloc[199:, ]\n",
    "df_sp = df_sp.iloc[199:, ]\n",
    "\n",
    "df_dji.iloc[:, :15].isnull().any()\n",
    "# We can see that all the technical indicators are now non-null values"
   ]
  },
  {
   "cell_type": "code",
   "execution_count": 8,
   "metadata": {},
   "outputs": [
    {
     "data": {
      "text/plain": [
       "False"
      ]
     },
     "execution_count": 8,
     "metadata": {},
     "output_type": "execute_result"
    }
   ],
   "source": [
    "# Second, all missing values from change in stock prices, commodity prices, oil prices, and so on\n",
    "# will be replaced with 0 (no change)\n",
    "# This is my interpretation of the provided data files\n",
    "\n",
    "df_dji = df_dji.fillna(0)\n",
    "df_nasdaq = df_nasdaq.fillna(0)\n",
    "df_nyse = df_nyse.fillna(0)\n",
    "df_russell = df_russell.fillna(0)\n",
    "df_sp = df_sp.fillna(0)\n",
    "\n",
    "df_russell.isnull().any().any()\n",
    "# The entire dataframe(s) is now free of missing values"
   ]
  },
  {
   "cell_type": "code",
   "execution_count": 9,
   "metadata": {},
   "outputs": [
    {
     "data": {
      "text/html": [
       "<div>\n",
       "<style scoped>\n",
       "    .dataframe tbody tr th:only-of-type {\n",
       "        vertical-align: middle;\n",
       "    }\n",
       "\n",
       "    .dataframe tbody tr th {\n",
       "        vertical-align: top;\n",
       "    }\n",
       "\n",
       "    .dataframe thead th {\n",
       "        text-align: right;\n",
       "    }\n",
       "</style>\n",
       "<table border=\"1\" class=\"dataframe\">\n",
       "  <thead>\n",
       "    <tr style=\"text-align: right;\">\n",
       "      <th></th>\n",
       "      <th>count</th>\n",
       "      <th>mean</th>\n",
       "      <th>std</th>\n",
       "      <th>min</th>\n",
       "      <th>25%</th>\n",
       "      <th>50%</th>\n",
       "      <th>75%</th>\n",
       "      <th>max</th>\n",
       "    </tr>\n",
       "  </thead>\n",
       "  <tbody>\n",
       "    <tr>\n",
       "      <th>Close</th>\n",
       "      <td>1785.0</td>\n",
       "      <td>15997.813259</td>\n",
       "      <td>3075.057785</td>\n",
       "      <td>10655.299805</td>\n",
       "      <td>13034.490234</td>\n",
       "      <td>16361.459961</td>\n",
       "      <td>17908.279297</td>\n",
       "      <td>23563.359375</td>\n",
       "    </tr>\n",
       "    <tr>\n",
       "      <th>Volume</th>\n",
       "      <td>1785.0</td>\n",
       "      <td>-0.458474</td>\n",
       "      <td>48.430709</td>\n",
       "      <td>-1407.483531</td>\n",
       "      <td>-1.326463</td>\n",
       "      <td>-0.683092</td>\n",
       "      <td>0.186820</td>\n",
       "      <td>864.815581</td>\n",
       "    </tr>\n",
       "    <tr>\n",
       "      <th>mom</th>\n",
       "      <td>1785.0</td>\n",
       "      <td>0.000450</td>\n",
       "      <td>0.008405</td>\n",
       "      <td>-0.055464</td>\n",
       "      <td>-0.003036</td>\n",
       "      <td>0.000530</td>\n",
       "      <td>0.004635</td>\n",
       "      <td>0.042408</td>\n",
       "    </tr>\n",
       "    <tr>\n",
       "      <th>mom1</th>\n",
       "      <td>1785.0</td>\n",
       "      <td>0.000454</td>\n",
       "      <td>0.008403</td>\n",
       "      <td>-0.055464</td>\n",
       "      <td>-0.003032</td>\n",
       "      <td>0.000530</td>\n",
       "      <td>0.004635</td>\n",
       "      <td>0.042408</td>\n",
       "    </tr>\n",
       "    <tr>\n",
       "      <th>mom2</th>\n",
       "      <td>1785.0</td>\n",
       "      <td>0.000458</td>\n",
       "      <td>0.008405</td>\n",
       "      <td>-0.055464</td>\n",
       "      <td>-0.003032</td>\n",
       "      <td>0.000535</td>\n",
       "      <td>0.004655</td>\n",
       "      <td>0.042408</td>\n",
       "    </tr>\n",
       "    <tr>\n",
       "      <th>...</th>\n",
       "      <td>...</td>\n",
       "      <td>...</td>\n",
       "      <td>...</td>\n",
       "      <td>...</td>\n",
       "      <td>...</td>\n",
       "      <td>...</td>\n",
       "      <td>...</td>\n",
       "      <td>...</td>\n",
       "    </tr>\n",
       "    <tr>\n",
       "      <th>Dollar index-F</th>\n",
       "      <td>1785.0</td>\n",
       "      <td>0.013087</td>\n",
       "      <td>0.478130</td>\n",
       "      <td>-2.390000</td>\n",
       "      <td>-0.260000</td>\n",
       "      <td>0.010000</td>\n",
       "      <td>0.270000</td>\n",
       "      <td>2.180000</td>\n",
       "    </tr>\n",
       "    <tr>\n",
       "      <th>Dollar index</th>\n",
       "      <td>1785.0</td>\n",
       "      <td>0.012543</td>\n",
       "      <td>0.490907</td>\n",
       "      <td>-4.280000</td>\n",
       "      <td>-0.260000</td>\n",
       "      <td>0.000000</td>\n",
       "      <td>0.270000</td>\n",
       "      <td>3.980000</td>\n",
       "    </tr>\n",
       "    <tr>\n",
       "      <th>wheat-F</th>\n",
       "      <td>1785.0</td>\n",
       "      <td>-0.033137</td>\n",
       "      <td>1.834548</td>\n",
       "      <td>-11.060000</td>\n",
       "      <td>-1.140000</td>\n",
       "      <td>-0.060000</td>\n",
       "      <td>1.010000</td>\n",
       "      <td>7.270000</td>\n",
       "    </tr>\n",
       "    <tr>\n",
       "      <th>XAG</th>\n",
       "      <td>1785.0</td>\n",
       "      <td>-0.010241</td>\n",
       "      <td>1.841118</td>\n",
       "      <td>-12.930000</td>\n",
       "      <td>-0.860000</td>\n",
       "      <td>0.000000</td>\n",
       "      <td>0.860000</td>\n",
       "      <td>6.530000</td>\n",
       "    </tr>\n",
       "    <tr>\n",
       "      <th>XAU</th>\n",
       "      <td>1785.0</td>\n",
       "      <td>-0.002230</td>\n",
       "      <td>1.032771</td>\n",
       "      <td>-8.490000</td>\n",
       "      <td>-0.540000</td>\n",
       "      <td>0.010000</td>\n",
       "      <td>0.560000</td>\n",
       "      <td>4.800000</td>\n",
       "    </tr>\n",
       "  </tbody>\n",
       "</table>\n",
       "<p>82 rows × 8 columns</p>\n",
       "</div>"
      ],
      "text/plain": [
       "                 count          mean          std           min           25%  \\\n",
       "Close           1785.0  15997.813259  3075.057785  10655.299805  13034.490234   \n",
       "Volume          1785.0     -0.458474    48.430709  -1407.483531     -1.326463   \n",
       "mom             1785.0      0.000450     0.008405     -0.055464     -0.003036   \n",
       "mom1            1785.0      0.000454     0.008403     -0.055464     -0.003032   \n",
       "mom2            1785.0      0.000458     0.008405     -0.055464     -0.003032   \n",
       "...                ...           ...          ...           ...           ...   \n",
       "Dollar index-F  1785.0      0.013087     0.478130     -2.390000     -0.260000   \n",
       "Dollar index    1785.0      0.012543     0.490907     -4.280000     -0.260000   \n",
       "wheat-F         1785.0     -0.033137     1.834548    -11.060000     -1.140000   \n",
       "XAG             1785.0     -0.010241     1.841118    -12.930000     -0.860000   \n",
       "XAU             1785.0     -0.002230     1.032771     -8.490000     -0.540000   \n",
       "\n",
       "                         50%           75%           max  \n",
       "Close           16361.459961  17908.279297  23563.359375  \n",
       "Volume             -0.683092      0.186820    864.815581  \n",
       "mom                 0.000530      0.004635      0.042408  \n",
       "mom1                0.000530      0.004635      0.042408  \n",
       "mom2                0.000535      0.004655      0.042408  \n",
       "...                      ...           ...           ...  \n",
       "Dollar index-F      0.010000      0.270000      2.180000  \n",
       "Dollar index        0.000000      0.270000      3.980000  \n",
       "wheat-F            -0.060000      1.010000      7.270000  \n",
       "XAG                 0.000000      0.860000      6.530000  \n",
       "XAU                 0.010000      0.560000      4.800000  \n",
       "\n",
       "[82 rows x 8 columns]"
      ]
     },
     "execution_count": 9,
     "metadata": {},
     "output_type": "execute_result"
    }
   ],
   "source": [
    "# Inspect the cleaned up dataset\n",
    "df_dji.describe().transpose()"
   ]
  },
  {
   "cell_type": "code",
   "execution_count": 10,
   "metadata": {},
   "outputs": [
    {
     "name": "stdout",
     "output_type": "stream",
     "text": [
      "Task completed\n"
     ]
    }
   ],
   "source": [
    "# Create a date_time pd.Series from the original dataframe\n",
    "df_dji['Date'] = pd.to_datetime(df_dji['Date'], format='%Y-%m-%d')\n",
    "df_nasdaq['Date'] = pd.to_datetime(df_nasdaq['Date'], format='%Y-%m-%d')\n",
    "df_nyse['Date'] = pd.to_datetime(df_nyse['Date'], format='%Y-%m-%d')\n",
    "df_russell['Date'] = pd.to_datetime(df_russell['Date'], format='%Y-%m-%d')\n",
    "df_sp['Date'] = pd.to_datetime(df_sp['Date'], format='%Y-%m-%d')\n",
    "\n",
    "print('Task completed')"
   ]
  },
  {
   "cell_type": "code",
   "execution_count": 11,
   "metadata": {},
   "outputs": [
    {
     "data": {
      "image/png": "[encoded data removed]",
      "text/plain": [
       "<Figure size 432x288 with 3 Axes>"
      ]
     },
     "metadata": {
      "needs_background": "light"
     },
     "output_type": "display_data"
    }
   ],
   "source": [
    "# Visualize change in Amazon, Apple, and GE stock prices\n",
    "plot_cols = ['AMZN', 'AAPL', 'GE']\n",
    "plot_features = df_dji[plot_cols]\n",
    "plot_features.index = df_dji['Date']\n",
    "_ = plot_features.plot(subplots=True)\n"
   ]
  },
  {
   "cell_type": "markdown",
   "metadata": {},
   "source": [
    "# <center><span style=\"color:blue\">*Split Dataset & Normalization*</span></center>"
   ]
  },
  {
   "cell_type": "code",
   "execution_count": 12,
   "metadata": {},
   "outputs": [
    {
     "name": "stdout",
     "output_type": "stream",
     "text": [
      "Training/Testing/Validating Dataframe Dimensions: \n",
      "(1071, 82) (357, 82) (357, 82)\n"
     ]
    }
   ],
   "source": [
    "# Split the dataset into 60% train, 20% test, and 20% validation\n",
    "samples_count, features_count = df_dji.shape\n",
    "\n",
    "numeric_formats = ['int16', 'int32', 'int64', 'float16', 'float32', 'float64']\n",
    "\n",
    "\n",
    "df_dji_train = df_dji.select_dtypes(include=numeric_formats).iloc[:int(samples_count*0.6), :]\n",
    "df_dji_test = df_dji.select_dtypes(include=numeric_formats).iloc[int(samples_count*0.6): int(samples_count*0.8), :]\n",
    "df_dji_val = df_dji.select_dtypes(include=numeric_formats).iloc[int(samples_count*0.8):, :]\n",
    "\n",
    "df_nasdaq_train = df_nasdaq.select_dtypes(include=numeric_formats).iloc[:int(samples_count*0.6), :]\n",
    "df_nasdaq_test = df_nasdaq.select_dtypes(include=numeric_formats).iloc[int(samples_count*0.6): int(samples_count*0.8), :]\n",
    "df_nasdaq_val = df_nasdaq.select_dtypes(include=numeric_formats).iloc[int(samples_count*0.8):, :]\n",
    "\n",
    "df_nyse_train = df_nyse.select_dtypes(include=numeric_formats).iloc[:int(samples_count*0.6), :]\n",
    "df_nyse_test = df_nyse.select_dtypes(include=numeric_formats).iloc[int(samples_count*0.6): int(samples_count*0.8), :]\n",
    "df_nyse_val = df_nyse.select_dtypes(include=numeric_formats).iloc[int(samples_count*0.8):, :]\n",
    "\n",
    "df_russell_train = df_russell.select_dtypes(include=numeric_formats).iloc[:int(samples_count*0.6), :]\n",
    "df_russell_test = df_russell.select_dtypes(include=numeric_formats).iloc[int(samples_count*0.6):int(samples_count*0.8), :]\n",
    "df_russell_val = df_russell.select_dtypes(include=numeric_formats).iloc[int(samples_count*0.8):, :]\n",
    "\n",
    "df_sp_train = df_sp.select_dtypes(include=numeric_formats).iloc[:int(samples_count*0.6), :]\n",
    "df_sp_test = df_sp.select_dtypes(include=numeric_formats).iloc[int(samples_count*0.6): int(samples_count*0.8), :]\n",
    "df_sp_val = df_sp.select_dtypes(include=numeric_formats).iloc[int(samples_count*0.8):, :]\n",
    "\n",
    "\n",
    "print('Training/Testing/Validating Dataframe Dimensions: ')\n",
    "print(df_nyse_train.shape, df_nyse_test.shape, df_nyse_val.shape)"
   ]
  },
  {
   "cell_type": "code",
   "execution_count": 13,
   "metadata": {},
   "outputs": [
    {
     "name": "stdout",
     "output_type": "stream",
     "text": [
      "Task completed\n"
     ]
    }
   ],
   "source": [
    "# Normalize data using the Z-score\n",
    "\n",
    "df_dji_test = (df_dji_test - df_dji_train.mean()) / df_dji_train.std()\n",
    "df_dji_val = (df_dji_val - df_dji_train.mean()) / df_dji_train.std()\n",
    "df_dji_train = (df_dji_train - df_dji_train.mean()) / df_dji_train.std()\n",
    "\n",
    "df_nasdaq_test = (df_nasdaq_test - df_nasdaq_train.mean()) / df_nasdaq_train.std()\n",
    "df_nasdaq_val = (df_nasdaq_val - df_nasdaq_train.mean()) / df_nasdaq_train.std()\n",
    "df_nasdaq_train = (df_nasdaq_train - df_nasdaq_train.mean()) / df_nasdaq_train.std()\n",
    "\n",
    "df_nyse_test = (df_nyse_test - df_nyse_train.mean()) / df_nyse_train.std()\n",
    "df_nyse_val = (df_nyse_val - df_nyse_train.mean()) / df_nyse_train.std()\n",
    "df_nyse_train = (df_nyse_train - df_nyse_train.mean()) / df_nyse_train.std()\n",
    "\n",
    "df_russell_test = (df_russell_test - df_russell_train.mean()) / df_russell_train.std()\n",
    "df_russell_val = (df_russell_val - df_russell_train.mean()) / df_russell_train.std()\n",
    "df_russell_train = (df_russell_train - df_russell_train.mean()) / df_russell_train.std()\n",
    "\n",
    "df_sp_test = (df_sp_test - df_sp_train.mean()) / df_sp_train.std()\n",
    "df_sp_val = (df_sp_val - df_sp_train.mean()) / df_sp_train.std()\n",
    "df_sp_train = (df_sp_train - df_sp_train.mean()) / df_sp_train.std()\n",
    "\n",
    "print('Task completed')"
   ]
  },
  {
   "cell_type": "code",
   "execution_count": 14,
   "metadata": {},
   "outputs": [
    {
     "data": {
      "text/html": [
       "<div>\n",
       "<style scoped>\n",
       "    .dataframe tbody tr th:only-of-type {\n",
       "        vertical-align: middle;\n",
       "    }\n",
       "\n",
       "    .dataframe tbody tr th {\n",
       "        vertical-align: top;\n",
       "    }\n",
       "\n",
       "    .dataframe thead th {\n",
       "        text-align: right;\n",
       "    }\n",
       "</style>\n",
       "<table border=\"1\" class=\"dataframe\">\n",
       "  <thead>\n",
       "    <tr style=\"text-align: right;\">\n",
       "      <th></th>\n",
       "      <th>Close</th>\n",
       "      <th>Volume</th>\n",
       "      <th>mom</th>\n",
       "      <th>mom1</th>\n",
       "      <th>mom2</th>\n",
       "      <th>mom3</th>\n",
       "      <th>ROC_5</th>\n",
       "      <th>ROC_10</th>\n",
       "      <th>ROC_15</th>\n",
       "      <th>ROC_20</th>\n",
       "      <th>...</th>\n",
       "      <th>NZD</th>\n",
       "      <th>silver-F</th>\n",
       "      <th>RUSSELL-F</th>\n",
       "      <th>S&amp;P-F</th>\n",
       "      <th>CHF</th>\n",
       "      <th>Dollar index-F</th>\n",
       "      <th>Dollar index</th>\n",
       "      <th>wheat-F</th>\n",
       "      <th>XAG</th>\n",
       "      <th>XAU</th>\n",
       "    </tr>\n",
       "  </thead>\n",
       "  <tbody>\n",
       "    <tr>\n",
       "      <th>1270</th>\n",
       "      <td>1.709861</td>\n",
       "      <td>0.022084</td>\n",
       "      <td>-0.028965</td>\n",
       "      <td>1.193832</td>\n",
       "      <td>-0.742637</td>\n",
       "      <td>-1.252094</td>\n",
       "      <td>-0.498731</td>\n",
       "      <td>-0.159109</td>\n",
       "      <td>-1.248558</td>\n",
       "      <td>-0.742833</td>\n",
       "      <td>...</td>\n",
       "      <td>-2.481860</td>\n",
       "      <td>0.663901</td>\n",
       "      <td>-0.391301</td>\n",
       "      <td>0.291161</td>\n",
       "      <td>-0.496930</td>\n",
       "      <td>1.042064</td>\n",
       "      <td>1.229675</td>\n",
       "      <td>0.412355</td>\n",
       "      <td>0.763661</td>\n",
       "      <td>1.164086</td>\n",
       "    </tr>\n",
       "    <tr>\n",
       "      <th>1271</th>\n",
       "      <td>1.729236</td>\n",
       "      <td>0.011178</td>\n",
       "      <td>0.199208</td>\n",
       "      <td>-0.027807</td>\n",
       "      <td>1.192478</td>\n",
       "      <td>-0.744394</td>\n",
       "      <td>-0.300966</td>\n",
       "      <td>0.234268</td>\n",
       "      <td>-1.147540</td>\n",
       "      <td>-0.721086</td>\n",
       "      <td>...</td>\n",
       "      <td>-1.579581</td>\n",
       "      <td>0.622961</td>\n",
       "      <td>-0.322716</td>\n",
       "      <td>0.433000</td>\n",
       "      <td>-2.098559</td>\n",
       "      <td>-0.518482</td>\n",
       "      <td>-0.396751</td>\n",
       "      <td>0.069000</td>\n",
       "      <td>0.404998</td>\n",
       "      <td>-0.029366</td>\n",
       "    </tr>\n",
       "    <tr>\n",
       "      <th>1272</th>\n",
       "      <td>1.858096</td>\n",
       "      <td>-0.086715</td>\n",
       "      <td>1.618195</td>\n",
       "      <td>0.200517</td>\n",
       "      <td>-0.029176</td>\n",
       "      <td>1.192134</td>\n",
       "      <td>1.048411</td>\n",
       "      <td>0.336692</td>\n",
       "      <td>-0.560234</td>\n",
       "      <td>-0.540347</td>\n",
       "      <td>...</td>\n",
       "      <td>-0.838905</td>\n",
       "      <td>0.577472</td>\n",
       "      <td>1.658622</td>\n",
       "      <td>1.446138</td>\n",
       "      <td>1.540436</td>\n",
       "      <td>2.797679</td>\n",
       "      <td>2.789262</td>\n",
       "      <td>-0.185915</td>\n",
       "      <td>0.562810</td>\n",
       "      <td>0.567360</td>\n",
       "    </tr>\n",
       "    <tr>\n",
       "      <th>1273</th>\n",
       "      <td>1.787945</td>\n",
       "      <td>0.035318</td>\n",
       "      <td>-0.948871</td>\n",
       "      <td>1.620445</td>\n",
       "      <td>0.199150</td>\n",
       "      <td>-0.030413</td>\n",
       "      <td>0.948976</td>\n",
       "      <td>-0.721187</td>\n",
       "      <td>-0.527872</td>\n",
       "      <td>-0.885598</td>\n",
       "      <td>...</td>\n",
       "      <td>-0.825438</td>\n",
       "      <td>-0.236781</td>\n",
       "      <td>-0.330337</td>\n",
       "      <td>-0.671319</td>\n",
       "      <td>1.293126</td>\n",
       "      <td>1.540572</td>\n",
       "      <td>1.563872</td>\n",
       "      <td>-0.414818</td>\n",
       "      <td>-0.121041</td>\n",
       "      <td>-0.476910</td>\n",
       "    </tr>\n",
       "    <tr>\n",
       "      <th>1274</th>\n",
       "      <td>1.790971</td>\n",
       "      <td>0.019111</td>\n",
       "      <td>-0.013591</td>\n",
       "      <td>-0.948323</td>\n",
       "      <td>1.619096</td>\n",
       "      <td>0.198081</td>\n",
       "      <td>0.380574</td>\n",
       "      <td>-0.324077</td>\n",
       "      <td>-0.534933</td>\n",
       "      <td>-0.885302</td>\n",
       "      <td>...</td>\n",
       "      <td>-0.542635</td>\n",
       "      <td>-0.887273</td>\n",
       "      <td>1.582417</td>\n",
       "      <td>0.412738</td>\n",
       "      <td>2.977191</td>\n",
       "      <td>0.088397</td>\n",
       "      <td>0.048845</td>\n",
       "      <td>-0.909041</td>\n",
       "      <td>-0.957922</td>\n",
       "      <td>-0.898128</td>\n",
       "    </tr>\n",
       "  </tbody>\n",
       "</table>\n",
       "<p>5 rows × 82 columns</p>\n",
       "</div>"
      ],
      "text/plain": [
       "         Close    Volume       mom      mom1      mom2      mom3     ROC_5  \\\n",
       "1270  1.709861  0.022084 -0.028965  1.193832 -0.742637 -1.252094 -0.498731   \n",
       "1271  1.729236  0.011178  0.199208 -0.027807  1.192478 -0.744394 -0.300966   \n",
       "1272  1.858096 -0.086715  1.618195  0.200517 -0.029176  1.192134  1.048411   \n",
       "1273  1.787945  0.035318 -0.948871  1.620445  0.199150 -0.030413  0.948976   \n",
       "1274  1.790971  0.019111 -0.013591 -0.948323  1.619096  0.198081  0.380574   \n",
       "\n",
       "        ROC_10    ROC_15    ROC_20  ...       NZD  silver-F  RUSSELL-F  \\\n",
       "1270 -0.159109 -1.248558 -0.742833  ... -2.481860  0.663901  -0.391301   \n",
       "1271  0.234268 -1.147540 -0.721086  ... -1.579581  0.622961  -0.322716   \n",
       "1272  0.336692 -0.560234 -0.540347  ... -0.838905  0.577472   1.658622   \n",
       "1273 -0.721187 -0.527872 -0.885598  ... -0.825438 -0.236781  -0.330337   \n",
       "1274 -0.324077 -0.534933 -0.885302  ... -0.542635 -0.887273   1.582417   \n",
       "\n",
       "         S&P-F       CHF  Dollar index-F  Dollar index   wheat-F       XAG  \\\n",
       "1270  0.291161 -0.496930        1.042064      1.229675  0.412355  0.763661   \n",
       "1271  0.433000 -2.098559       -0.518482     -0.396751  0.069000  0.404998   \n",
       "1272  1.446138  1.540436        2.797679      2.789262 -0.185915  0.562810   \n",
       "1273 -0.671319  1.293126        1.540572      1.563872 -0.414818 -0.121041   \n",
       "1274  0.412738  2.977191        0.088397      0.048845 -0.909041 -0.957922   \n",
       "\n",
       "           XAU  \n",
       "1270  1.164086  \n",
       "1271 -0.029366  \n",
       "1272  0.567360  \n",
       "1273 -0.476910  \n",
       "1274 -0.898128  \n",
       "\n",
       "[5 rows x 82 columns]"
      ]
     },
     "execution_count": 14,
     "metadata": {},
     "output_type": "execute_result"
    }
   ],
   "source": [
    "df_dji_test.head()"
   ]
  },
  {
   "cell_type": "markdown",
   "metadata": {},
   "source": [
    "# <center><span style=\"color:blue\">*Window Dataset*</span></center>"
   ]
  },
  {
   "cell_type": "code",
   "execution_count": 15,
   "metadata": {},
   "outputs": [],
   "source": [
    "# This WindowGenerator is desiged specifically for single-step model ONLY\n",
    "class WindowGenerator():  \n",
    "    def __init__(self, input_width, label_width, offset,\n",
    "                 df_train, df_val, df_test,\n",
    "                 label_columns=None):\n",
    "    # Store the class inputs.\n",
    "        self.train_data = df_train\n",
    "        self.validation_data = df_val\n",
    "        self.test_data = df_test\n",
    "        self.input_width = input_width\n",
    "        self.label_width = 1    # Force label_width to 1\n",
    "        self.offset = 1         # Force offset to 1\n",
    "\n",
    "    # Work out the label column indices.\n",
    "        self.column_indices = {name: i \n",
    "                               for i, name in enumerate(df_train.columns)}\n",
    "        self.label_columns = label_columns\n",
    "        if label_columns is not None:\n",
    "            self.label_columns_indices = {name: self.column_indices[name]\n",
    "                                          for name in label_columns}\n",
    "\n",
    "        self.total_window_size = input_width + offset\n",
    "        self.input_indices = np.arange(self.total_window_size)[slice(0, self.input_width)]\n",
    "\n",
    "        self.label_start = self.total_window_size - self.label_width\n",
    "        self.label_indices = np.arange(self.total_window_size)[slice(self.label_start, None)]\n",
    "\n",
    "\n",
    "    def __repr__(self):\n",
    "        return '\\n'.join([\n",
    "            f'Total window size: {self.total_window_size}',\n",
    "            f'Input indices: {self.input_indices}',\n",
    "            f'Label indices: {self.label_indices}',\n",
    "            f'Label column name(s) & index(s): {self.label_columns_indices}'])\n",
    "    \n",
    "\n",
    "\n",
    "# The goal is predicting if the target(s) increases or decreases the following day\n",
    "# For labels, we take the difference between targets' values of day t and of day t-1\n",
    "# Values increase,        label=1\n",
    "# Values decrease/remain, label=0\n",
    "\n",
    "    def split_window(self, features):\n",
    "        inputs = features[:, slice(0, self.input_width), :]\n",
    "        labels = features[:, slice(self.label_start, None), :] - \\\n",
    "                 features[:, slice(self.label_start - 1, self.label_start), :]\n",
    "        labels = tf.cast(labels > 0, dtype=tf.float32)\n",
    "        if self.label_columns is not None:\n",
    "            labels = tf.stack(\n",
    "                [labels[:, :, self.column_indices[name]] for name in self.label_columns],\n",
    "                axis=-1)\n",
    "    # Slicing doesn't preserve static shape information, so set the shapes manually.\n",
    "        inputs.set_shape([None, self.input_width, None])\n",
    "        labels.set_shape([None, self.label_width, None])\n",
    "        return inputs, labels\n",
    "\n",
    "\n",
    "    def make_dataset(self, data):\n",
    "        data = np.array(data, dtype=np.float32)\n",
    "        ds = tf.keras.preprocessing.timeseries_dataset_from_array(\n",
    "            data=data,\n",
    "            targets=None,\n",
    "            sequence_length=self.total_window_size,\n",
    "            sequence_stride=1,\n",
    "            shuffle=0,\n",
    "            batch_size=32,)\n",
    "        ds = ds.map(self.split_window)\n",
    "        return ds\n",
    "\n",
    "\n",
    "# Reference on @property: https://www.programiz.com/python-programming/property\n",
    "    @property\n",
    "    def train(self):\n",
    "        return self.make_dataset(self.train_data)\n",
    "\n",
    "    @property\n",
    "    def val(self):\n",
    "        return self.make_dataset(self.validation_data)\n",
    "\n",
    "    @property\n",
    "    def test(self):\n",
    "        return self.make_dataset(self.test_data)"
   ]
  },
  {
   "cell_type": "code",
   "execution_count": 16,
   "metadata": {},
   "outputs": [],
   "source": [
    "# In the referenced paper, the authors were only interested in predicting motions of the index closing\n",
    "# We use data from previous 60 days to predict the following day target\n",
    "\n",
    "window_dji = WindowGenerator(input_width=60, label_width=1, offset=1,\n",
    "                         df_train=df_dji_train, df_test=df_dji_test, df_val=df_dji_val,\n",
    "                         label_columns=['Close'])\n",
    "\n",
    "window_nasdaq = WindowGenerator(input_width=60, label_width=1, offset=1,\n",
    "                         df_train=df_nasdaq_train, df_test=df_nasdaq_test, df_val=df_nasdaq_val,\n",
    "                         label_columns=['Close'])\n",
    "\n",
    "window_nyse = WindowGenerator(input_width=60, label_width=1, offset=1,\n",
    "                         df_train=df_nyse_train, df_test=df_nyse_test, df_val=df_nyse_val,\n",
    "                         label_columns=['Close'])\n",
    "\n",
    "window_russell = WindowGenerator(input_width=60, label_width=1, offset=1,\n",
    "                         df_train=df_russell_train, df_test=df_russell_test, df_val=df_russell_val,\n",
    "                         label_columns=['Close'])\n",
    "\n",
    "window_sp = WindowGenerator(input_width=60, label_width=1, offset=1,\n",
    "                         df_train=df_sp_train, df_test=df_sp_test, df_val=df_sp_val,\n",
    "                         label_columns=['Close'])\n"
   ]
  },
  {
   "cell_type": "code",
   "execution_count": 17,
   "metadata": {},
   "outputs": [],
   "source": [
    "train_window = window_dji.train\n",
    "test_window = window_dji.test\n",
    "val_window = window_dji.val\n",
    "\n",
    "for window in [window_nasdaq, window_nyse, window_russell, window_sp]:\n",
    "    train_window = train_window.zip(window.train)\n",
    "    test_window = test_window.zip(window.test)\n",
    "    val_window = val_window.zip(window.val)"
   ]
  },
  {
   "cell_type": "code",
   "execution_count": 18,
   "metadata": {},
   "outputs": [
    {
     "name": "stdout",
     "output_type": "stream",
     "text": [
      "Inputs shape: (32, 60, 82)\n",
      "Labels shape: (32, 1, 1) \n",
      "\n",
      "Example labels (each row is one instance): \n",
      "tf.Tensor(\n",
      "[[1. 1. 0. 1. 1. 0. 0. 1. 1. 1. 1. 1. 0. 1. 1. 0. 1. 1. 1. 1. 0. 1. 1. 1.\n",
      "  0. 1. 1. 1. 0. 0. 0. 1.]], shape=(1, 32), dtype=float32)\n"
     ]
    }
   ],
   "source": [
    "# Examine the created window\n",
    "\n",
    "for inputs, labels in train_window.take(1):\n",
    "    print('Inputs shape: {}'.format(inputs.shape))\n",
    "    print('Labels shape: {} \\n'.format(labels.shape))\n",
    "    print('Example labels (each row is one instance): ')\n",
    "    print(tf.reshape(labels, [1, -1]))"
   ]
  },
  {
   "cell_type": "markdown",
   "metadata": {},
   "source": [
    "# <center><span style=\"color:blue\">*2D CNN Model*</span></center>"
   ]
  },
  {
   "cell_type": "code",
   "execution_count": 19,
   "metadata": {},
   "outputs": [],
   "source": [
    "model_2D = tf.keras.Sequential([\n",
    "    tf.keras.layers.Conv1D(filters=8,\n",
    "                           kernel_size=1,\n",
    "                           kernel_initializer='GlorotUniform',\n",
    "                           activation='relu'),    # out_shape = (60, 16)\n",
    "    tf.keras.layers.Conv1D(filters=8,\n",
    "                           kernel_size=3,\n",
    "                           kernel_initializer='GlorotUniform',\n",
    "                           activation='relu'),    # out_shape = (58, 16)\n",
    "    tf.keras.layers.MaxPool1D(pool_size=2,\n",
    "                              strides=None,\n",
    "                              padding='valid'),    # out_shape = (29, 16)\n",
    "    tf.keras.layers.Conv1D(filters=8,\n",
    "                           kernel_size=3,\n",
    "                           kernel_initializer='GlorotUniform',\n",
    "                           activation='relu'),    # out_shape = (27, 16)\n",
    "    tf.keras.layers.MaxPool1D(pool_size=2,\n",
    "                              strides=None, \n",
    "                              padding='valid'),    # out_shape = (13, 16)\n",
    "    tf.keras.layers.Flatten(),\n",
    "    tf.keras.layers.Dense(104, kernel_initializer='GlorotUniform', activation='relu'),\n",
    "    tf.keras.layers.Dense(units=1, kernel_initializer='GlorotUniform', activation='sigmoid')\n",
    "])"
   ]
  },
  {
   "cell_type": "code",
   "execution_count": 20,
   "metadata": {},
   "outputs": [],
   "source": [
    "# Build an optimizer that reduces the learning rate over time\n",
    "\n",
    "steps_per_epoch = 2\n",
    "\n",
    "lr_schedule = tf.keras.optimizers.schedules.InverseTimeDecay(initial_learning_rate=0.01 ,\n",
    "                                                             decay_steps=steps_per_epoch, \n",
    "                                                             decay_rate=1, \n",
    "                                                             staircase=False, \n",
    "                                                             name=None)\n",
    "\n",
    "def get_optimizer():\n",
    "    return tf.keras.optimizers.Adam(lr_schedule)"
   ]
  },
  {
   "cell_type": "code",
   "execution_count": 21,
   "metadata": {},
   "outputs": [],
   "source": [
    "MAX_EPOCHS = 25\n",
    "\n",
    "def compile_and_fit(model, train_window, test_window, patience=10):\n",
    "    early_stopping = tf.keras.callbacks.EarlyStopping(monitor='val_accuracy',\n",
    "                                                      patience=patience,\n",
    "                                                      mode='min')\n",
    "    log_dir = \"logs/fit/\" + datetime.datetime.now().strftime(\"%Y%m%d-%H%M%S\")\n",
    "    tensorboard_callback = tf.keras.callbacks.TensorBoard(log_dir=log_dir, histogram_freq=1)\n",
    "\n",
    "    model.compile(optimizer=get_optimizer(),\n",
    "                  loss=tf.keras.losses.BinaryCrossentropy(),\n",
    "                  metrics=['accuracy'])\n",
    "\n",
    "    history = model.fit(train_window, epochs=MAX_EPOCHS,\n",
    "                        validation_data=test_window,\n",
    "                        callbacks=[tensorboard_callback, early_stopping], verbose=1)\n",
    "    return history"
   ]
  },
  {
   "cell_type": "code",
   "execution_count": 195,
   "metadata": {},
   "outputs": [
    {
     "name": "stdout",
     "output_type": "stream",
     "text": [
      "WARNING:tensorflow:Callbacks method `on_train_batch_begin` is slow compared to the batch time (batch time: 0.0040s vs `on_train_batch_begin` time: 0.0100s). Check your callbacks.\n",
      "WARNING:tensorflow:Callbacks method `on_train_batch_end` is slow compared to the batch time (batch time: 0.0040s vs `on_train_batch_end` time: 1.1867s). Check your callbacks.\n"
     ]
    }
   ],
   "source": [
    "history = dict()\n",
    "history['2D_Model'] = compile_and_fit(model_2D, train_window, test_window)"
   ]
  },
  {
   "cell_type": "code",
   "execution_count": 196,
   "metadata": {},
   "outputs": [
    {
     "data": {
      "image/png": "[encoded data removed]",
      "text/plain": [
       "<Figure size 432x288 with 1 Axes>"
      ]
     },
     "metadata": {
      "needs_background": "light"
     },
     "output_type": "display_data"
    }
   ],
   "source": [
    "plotter = tfdocs.plots.HistoryPlotter(metric = 'accuracy', smoothing_std=0)\n",
    "plotter.plot(history)"
   ]
  },
  {
   "cell_type": "code",
   "execution_count": 197,
   "metadata": {},
   "outputs": [],
   "source": [
    "f1_macro_score_2D = []\n",
    "precision_2D = []\n",
    "recall_2D = []\n",
    "\n",
    "for window in [window_dji, window_nasdaq, window_nyse, window_russell, window_sp]:\n",
    "    validation_labels = np.empty(shape=[0, 1])\n",
    "    for inputs, labels in window.val:\n",
    "        validation_labels = np.append(validation_labels, labels.numpy().reshape(-1, 1), axis=0)\n",
    "\n",
    "        predictions = (model_2D.predict(window.val) > 0.5).astype(float)\n",
    "    \n",
    "    f1_macro_score_2D.append(metrics.f1_score(validation_labels, predictions, average='macro'))\n",
    "    precision_2D.append(metrics.precision_score(validation_labels, predictions, average='macro')) \n",
    "    recall_2D.append(metrics.recall_score(validation_labels, predictions, average='macro'))\n",
    "\n",
    "keys = ['DJI', 'NASDAQ', 'NYSE', 'RUSSELL', 'S&P500']\n",
    "f1_macro_score_2D = {keys[i]: f1_macro_score_2D[i] for i in range(len(keys))}\n",
    "precision_2D = {keys[i]: precision_2D[i] for i in range(len(keys))}\n",
    "recall_2D = {keys[i]: recall_2D[i] for i in range(len(keys))}"
   ]
  },
  {
   "cell_type": "code",
   "execution_count": null,
   "metadata": {},
   "outputs": [],
   "source": [
    "#%load_ext tensorboard\n",
    "#%reload_ext tensorboard\n",
    "#%tensorboard --logdir logs/fit"
   ]
  },
  {
   "cell_type": "code",
   "execution_count": 198,
   "metadata": {},
   "outputs": [
    {
     "name": "stdout",
     "output_type": "stream",
     "text": [
      "2D CNN Model Assessment\n",
      "\n",
      "Average F-Macro Score: 0.52\n",
      "\t DJI : 0.50\n",
      "\t NASDAQ : 0.53\n",
      "\t NYSE : 0.54\n",
      "\t RUSSELL : 0.52\n",
      "\t S&P500 : 0.54\n",
      "\n",
      "Average Precision: 0.54\n",
      "\t DJI : 0.51\n",
      "\t NASDAQ : 0.57\n",
      "\t NYSE : 0.54\n",
      "\t RUSSELL : 0.52\n",
      "\t S&P500 : 0.55\n",
      "\n",
      "Average Recall: 0.54\n",
      "\t DJI : 0.51\n",
      "\t NASDAQ : 0.56\n",
      "\t NYSE : 0.54\n",
      "\t RUSSELL : 0.52\n",
      "\t S&P500 : 0.55\n"
     ]
    }
   ],
   "source": [
    "print('2D CNN Model Assessment')\n",
    "\n",
    "print('\\nAverage F-Macro Score: {:.2f}'.format(np.mean(list(f1_macro_score_2D.values()))))\n",
    "for key, value in f1_macro_score_2D.items():\n",
    "    print('\\t', key, ': {:.2f}'.format(value))\n",
    "\n",
    "print('\\nAverage Precision: {:.2f}'.format(np.mean(list(precision_2D.values()))))\n",
    "for key, value in precision_2D.items():\n",
    "    print('\\t', key, ': {:.2f}'.format(value))\n",
    "\n",
    "print('\\nAverage Recall: {:.2f}'.format(np.mean(list(recall_2D.values()))))\n",
    "for key, value in recall_2D.items():\n",
    "    print('\\t', key, ': {:.2f}'.format(value))"
   ]
  },
  {
   "cell_type": "code",
   "execution_count": null,
   "metadata": {},
   "outputs": [],
   "source": [
    "# Algorithm results are quite consistent with what was reported in the reference literature"
   ]
  },
  {
   "cell_type": "markdown",
   "metadata": {},
   "source": [
    "# <center><span style=\"color:blue\">*3D CNN Model*</span></center>"
   ]
  },
  {
   "cell_type": "code",
   "execution_count": 79,
   "metadata": {},
   "outputs": [
    {
     "name": "stdout",
     "output_type": "stream",
     "text": [
      "Market Labels-Index: {'DJI': 0, 'NASDAQ': 1, 'NYSE': 2, 'RUSSELL': 3, 'S&P500': 4}\n",
      "Matrix Dimensions: \t\t(Time, Market, Features)\n",
      "Training Matrix Dimension:\t(1071, 5, 82)\n",
      "Testing Matrix Dimension:\t(357, 5, 82)\n",
      "Validation Matrix Dimension:\t(357, 5, 82)\n"
     ]
    }
   ],
   "source": [
    "train_matrix = np.array([df_dji_train.to_numpy(),\n",
    "                         df_nasdaq_train.to_numpy(),\n",
    "                         df_nyse_train.to_numpy(),\n",
    "                         df_russell_train.to_numpy(),\n",
    "                         df_sp_train.to_numpy()]).transpose([1, 0, 2])\n",
    "\n",
    "test_matrix = np.array([df_dji_test.to_numpy(),\n",
    "                        df_nasdaq_test.to_numpy(),\n",
    "                        df_nyse_test.to_numpy(),\n",
    "                        df_russell_test.to_numpy(),\n",
    "                        df_sp_test.to_numpy()]).transpose([1, 0, 2])\n",
    "\n",
    "val_matrix = np.array([df_dji_val.to_numpy(),\n",
    "                       df_nasdaq_val.to_numpy(),\n",
    "                       df_nyse_val.to_numpy(),\n",
    "                       df_russell_val.to_numpy(),\n",
    "                       df_sp_val.to_numpy()]).transpose([1, 0, 2])\n",
    "\n",
    "market_index_dict = {'DJI':0, 'NASDAQ':1, 'NYSE':2, 'RUSSELL':3, 'S&P500':4}\n",
    "print('Market Labels-Index: {}'.format(market_index_dict))\n",
    "print('Matrix Dimensions: \\t\\t(Time, Market, Features)')\n",
    "print('Training Matrix Dimension:\\t{}'.format(train_matrix.shape))\n",
    "print('Testing Matrix Dimension:\\t{}'.format(test_matrix.shape))\n",
    "print('Validation Matrix Dimension:\\t{}'.format(val_matrix.shape))"
   ]
  },
  {
   "cell_type": "code",
   "execution_count": 101,
   "metadata": {},
   "outputs": [],
   "source": [
    "# This WindowGenerator is desiged specifically for single-step model ONLY\n",
    "class WindowGenerator_3D():  \n",
    "    def __init__(self, input_width, label_width, offset,\n",
    "                 train_matrix, test_matrix, val_matrix,\n",
    "                 market_index,\n",
    "                 label_column_index):\n",
    "    # Store the class inputs.\n",
    "        self.input_width = input_width\n",
    "        self.label_width = 1    # Force label_width to 1\n",
    "        self.offset = 1         # Force offset to 1\n",
    "        self.train_data = train_matrix\n",
    "        self.test_data = test_matrix\n",
    "        self.validation_data = val_matrix\n",
    "        self.market_index = market_index\n",
    "        self.label_column_index = label_column_index\n",
    "        \n",
    "\n",
    "    # Work out the label column indices in each subframe.\n",
    "        self.total_window_size = input_width + offset\n",
    "        self.input_indices = list(np.arange(self.total_window_size)[slice(0, self.input_width)])\n",
    "\n",
    "        self.label_start = self.total_window_size - self.label_width\n",
    "        self.label_indices = list(np.arange(self.total_window_size)[slice(self.label_start, None)])\n",
    "\n",
    "\n",
    "    def __repr__(self):\n",
    "        return '\\n'.join([\n",
    "            f'Total window size: {self.total_window_size}',\n",
    "            f'Input indices: {self.input_indices}',\n",
    "            f'Label indices: {self.label_indices}',\n",
    "            f'Label column index: {self.label_column_index}',\n",
    "            f'Market index: {self.market_index}'])\n",
    "    \n",
    "\n",
    "\n",
    "# The goal is predicting if the target(s) increases or decreases the following day\n",
    "# For labels, we take the difference between targets' values of day t and of day t-1\n",
    "# Values increase,        label=1\n",
    "# Values decrease/remain, label=0\n",
    "\n",
    "    def split_window(self, data):\n",
    "        inputs = tf.slice(data, [0, 0, 0, 0], [-1, self.input_width, -1 , -1]) \n",
    "        labels = tf.slice(data, [0, self.input_width, self.market_index, self.label_column_index],\n",
    "                          [-1, self.label_width, 1, 1]) - \\\n",
    "                 tf.slice(data, [0, self.input_width-1, self.market_index, self.label_column_index],\n",
    "                          [-1, self.label_width, 1, 1])\n",
    "        labels = tf.reshape(tf.cast(labels > 0, dtype=tf.float32), [-1, 1])\n",
    "\n",
    "        return inputs, labels\n",
    "\n",
    "\n",
    "    def make_dataset(self, data):\n",
    "        data = np.array(data, dtype=np.float32)\n",
    "        ds = tf.keras.preprocessing.timeseries_dataset_from_array(\n",
    "            data=data,\n",
    "            targets=None,\n",
    "            sequence_length=self.total_window_size,\n",
    "            sequence_stride=1,\n",
    "            shuffle=0,\n",
    "            batch_size=32,)\n",
    "        ds = ds.map(self.split_window)\n",
    "        return ds\n",
    "\n",
    "\n",
    "# Reference on @property: https://www.programiz.com/python-programming/property\n",
    "    @property\n",
    "    def train(self):\n",
    "        return self.make_dataset(self.train_data)\n",
    "\n",
    "    @property\n",
    "    def val(self):\n",
    "        return self.make_dataset(self.validation_data)\n",
    "\n",
    "    @property\n",
    "    def test(self):\n",
    "        return self.make_dataset(self.test_data)"
   ]
  },
  {
   "cell_type": "code",
   "execution_count": 96,
   "metadata": {},
   "outputs": [
    {
     "data": {
      "text/plain": [
       "Total window size: 61\n",
       "Input indices: [0, 1, 2, 3, 4, 5, 6, 7, 8, 9, 10, 11, 12, 13, 14, 15, 16, 17, 18, 19, 20, 21, 22, 23, 24, 25, 26, 27, 28, 29, 30, 31, 32, 33, 34, 35, 36, 37, 38, 39, 40, 41, 42, 43, 44, 45, 46, 47, 48, 49, 50, 51, 52, 53, 54, 55, 56, 57, 58, 59]\n",
       "Label indices: [60]\n",
       "Label column index: 0"
      ]
     },
     "execution_count": 96,
     "metadata": {},
     "output_type": "execute_result"
    }
   ],
   "source": [
    "dji_window = WindowGenerator_3D(input_width=60, label_width=1, offset=1,\n",
    "                                train_matrix=train_matrix, test_matrix=test_matrix, val_matrix=val_matrix,\n",
    "                                market_index=market_index_dict['DJI'],\n",
    "                                label_column_index=0)\n",
    "dji_window"
   ]
  },
  {
   "cell_type": "code",
   "execution_count": 97,
   "metadata": {},
   "outputs": [
    {
     "name": "stdout",
     "output_type": "stream",
     "text": [
      "Inputs shape: (32, 60, 5, 82)\n",
      "Labels shape: (32, 1) \n",
      "\n",
      "5 Example labels: \n",
      "tf.Tensor(\n",
      "[[0.]\n",
      " [1.]\n",
      " [0.]\n",
      " [0.]\n",
      " [1.]], shape=(5, 1), dtype=float32)\n"
     ]
    }
   ],
   "source": [
    "# Examine the created window\n",
    "\n",
    "for inputs, labels in dji_window.val.take(1):\n",
    "    print('Inputs shape: {}'.format(inputs.shape))\n",
    "    print('Labels shape: {} \\n'.format(labels.shape))\n",
    "    print('5 Example labels: ')\n",
    "    print(labels[:5])"
   ]
  },
  {
   "cell_type": "code",
   "execution_count": 98,
   "metadata": {},
   "outputs": [],
   "source": [
    "model_3D = tf.keras.Sequential([\n",
    "    tf.keras.layers.Conv2D(filters=8,\n",
    "                           kernel_size=(1, 1),\n",
    "                           kernel_initializer='GlorotUniform',\n",
    "                           activation='relu'),    # out_shape = (60, 16)\n",
    "    tf.keras.layers.Conv2D(filters=8,\n",
    "                           kernel_size=(3, 5),\n",
    "                           kernel_initializer='GlorotUniform',\n",
    "                           activation='relu'),    # out_shape = (58, 16)\n",
    "    tf.keras.layers.MaxPool2D(pool_size=(2, 1),\n",
    "                              strides=None,\n",
    "                              padding='valid'),    # out_shape = (29, 16)\n",
    "    tf.keras.layers.Conv2D(filters=8,\n",
    "                           kernel_size=(3, 1),\n",
    "                           kernel_initializer='GlorotUniform',\n",
    "                           activation='relu'),    # out_shape = (27, 16)\n",
    "    tf.keras.layers.MaxPool2D(pool_size=(2, 1),\n",
    "                              strides=None, \n",
    "                              padding='valid'),    # out_shape = (13, 16)\n",
    "    tf.keras.layers.Flatten(),\n",
    "    tf.keras.layers.Dense(64, kernel_initializer='GlorotUniform', activation='relu'),\n",
    "    tf.keras.layers.Dense(units=1, kernel_initializer='GlorotUniform', activation='sigmoid')\n",
    "])"
   ]
  },
  {
   "cell_type": "code",
   "execution_count": 89,
   "metadata": {},
   "outputs": [],
   "source": [
    "# Build an optimizer that reduces the learning rate over time\n",
    "\n",
    "steps_per_epoch = 2\n",
    "\n",
    "lr_schedule = tf.keras.optimizers.schedules.InverseTimeDecay(initial_learning_rate=0.01 ,\n",
    "                                                             decay_steps=steps_per_epoch, \n",
    "                                                             decay_rate=1, \n",
    "                                                             staircase=False, \n",
    "                                                             name=None)\n",
    "\n",
    "def get_optimizer():\n",
    "    return tf.keras.optimizers.Adam(lr_schedule)"
   ]
  },
  {
   "cell_type": "code",
   "execution_count": 90,
   "metadata": {},
   "outputs": [],
   "source": [
    "MAX_EPOCHS = 25\n",
    "\n",
    "def compile_and_fit(model, train_window, test_window, patience=10):\n",
    "    early_stopping = tf.keras.callbacks.EarlyStopping(monitor='val_accuracy',\n",
    "                                                      patience=patience,\n",
    "                                                      mode='min')\n",
    "    log_dir = \"logs/fit/\" + datetime.datetime.now().strftime(\"%Y%m%d-%H%M%S\")\n",
    "    tensorboard_callback = tf.keras.callbacks.TensorBoard(log_dir=log_dir, histogram_freq=1)\n",
    "\n",
    "    model.compile(optimizer=get_optimizer(),\n",
    "                  loss=tf.keras.losses.BinaryCrossentropy(),\n",
    "                  metrics=['accuracy'])\n",
    "\n",
    "    history = model.fit(train_window, epochs=MAX_EPOCHS,\n",
    "                        validation_data=test_window,\n",
    "                        callbacks=[tensorboard_callback, early_stopping], verbose=0)\n",
    "    return history"
   ]
  },
  {
   "cell_type": "code",
   "execution_count": 48,
   "metadata": {},
   "outputs": [],
   "source": [
    "def results_evaluation(model, window):\n",
    "    validation_labels = np.empty(shape=[0, 1])\n",
    "    for inputs, labels in window:\n",
    "        validation_labels = np.append(validation_labels, labels.numpy().reshape(-1, 1), axis=0)\n",
    "    predictions = (model.predict(window) > 0.5).astype(float)\n",
    "    \n",
    "    f1_macro_score = metrics.f1_score(validation_labels, predictions, average='macro')\n",
    "    precision = metrics.precision_score(validation_labels, predictions, average='macro')\n",
    "    recall = metrics.recall_score(validation_labels, predictions, average='macro')\n",
    "    \n",
    "    return f1_macro_score, precision, recall"
   ]
  },
  {
   "cell_type": "code",
   "execution_count": 154,
   "metadata": {},
   "outputs": [
    {
     "name": "stdout",
     "output_type": "stream",
     "text": [
      "WARNING:tensorflow:Callbacks method `on_train_batch_begin` is slow compared to the batch time (batch time: 0.0070s vs `on_train_batch_begin` time: 0.0130s). Check your callbacks.\n",
      "WARNING:tensorflow:Callbacks method `on_train_batch_end` is slow compared to the batch time (batch time: 0.0070s vs `on_train_batch_end` time: 1.3685s). Check your callbacks.\n"
     ]
    }
   ],
   "source": [
    "history = dict()\n",
    "history['3D_Model'] = compile_and_fit(model_3D, dji_window.train, dji_window.test)"
   ]
  },
  {
   "cell_type": "code",
   "execution_count": 155,
   "metadata": {},
   "outputs": [
    {
     "name": "stdout",
     "output_type": "stream",
     "text": [
      "f1_macro_score for DJI model: 0.50\n",
      "\n"
     ]
    },
    {
     "data": {
      "image/png": "[encoded data removed]",
      "text/plain": [
       "<Figure size 432x288 with 1 Axes>"
      ]
     },
     "metadata": {
      "needs_background": "light"
     },
     "output_type": "display_data"
    }
   ],
   "source": [
    "f1_macro_score = dict()\n",
    "precision = dict()\n",
    "recall = dict()\n",
    "\n",
    "f1, pre, rec = results_evaluation(model_3D, dji_window.val)\n",
    "f1_macro_score['DJI'] = f1\n",
    "precision['DJI'] = pre\n",
    "recall['DJI'] = rec\n",
    "\n",
    "print('f1_macro_score for DJI model: {:.2f}\\n'.format(f1))\n",
    "\n",
    "plotter = tfdocs.plots.HistoryPlotter(metric = 'accuracy', smoothing_std=0)\n",
    "plotter.plot(history)"
   ]
  },
  {
   "cell_type": "code",
   "execution_count": 158,
   "metadata": {},
   "outputs": [
    {
     "name": "stdout",
     "output_type": "stream",
     "text": [
      "WARNING:tensorflow:Callbacks method `on_train_batch_begin` is slow compared to the batch time (batch time: 0.0060s vs `on_train_batch_begin` time: 0.0110s). Check your callbacks.\n",
      "WARNING:tensorflow:Callbacks method `on_train_batch_end` is slow compared to the batch time (batch time: 0.0060s vs `on_train_batch_end` time: 0.9390s). Check your callbacks.\n"
     ]
    }
   ],
   "source": [
    "nasdaq_window = WindowGenerator_3D(input_width=60, label_width=1, offset=1,\n",
    "                                train_matrix=train_matrix, test_matrix=test_matrix, val_matrix=val_matrix,\n",
    "                                market_index=market_index_dict['NASDAQ'],\n",
    "                                label_column_index=0)\n",
    "\n",
    "history['3D_Model'] = compile_and_fit(model_3D, nasdaq_window.train, nasdaq_window.test)"
   ]
  },
  {
   "cell_type": "code",
   "execution_count": 159,
   "metadata": {},
   "outputs": [
    {
     "name": "stdout",
     "output_type": "stream",
     "text": [
      "f1_macro_score for NASDAQ model: 0.49\n",
      "\n"
     ]
    },
    {
     "data": {
      "image/png": "[encoded data removed]",
      "text/plain": [
       "<Figure size 432x288 with 1 Axes>"
      ]
     },
     "metadata": {
      "needs_background": "light"
     },
     "output_type": "display_data"
    }
   ],
   "source": [
    "f1, pre, rec = results_evaluation(model_3D, nasdaq_window.val)\n",
    "f1_macro_score['NASDAQ'] = f1\n",
    "precision['NASDAQ'] = pre\n",
    "recall['NASDAQ'] = rec\n",
    "\n",
    "print('f1_macro_score for NASDAQ model: {:.2f}\\n'.format(f1))\n",
    "\n",
    "plotter = tfdocs.plots.HistoryPlotter(metric = 'accuracy', smoothing_std=0)\n",
    "plotter.plot(history)"
   ]
  },
  {
   "cell_type": "code",
   "execution_count": 160,
   "metadata": {},
   "outputs": [
    {
     "name": "stdout",
     "output_type": "stream",
     "text": [
      "WARNING:tensorflow:Callbacks method `on_train_batch_begin` is slow compared to the batch time (batch time: 0.0070s vs `on_train_batch_begin` time: 0.0110s). Check your callbacks.\n",
      "WARNING:tensorflow:Callbacks method `on_train_batch_end` is slow compared to the batch time (batch time: 0.0070s vs `on_train_batch_end` time: 0.6333s). Check your callbacks.\n",
      "Finished training\n"
     ]
    }
   ],
   "source": [
    "nyse_window = WindowGenerator_3D(input_width=60, label_width=1, offset=1,\n",
    "                                 train_matrix=train_matrix, test_matrix=test_matrix, val_matrix=val_matrix,\n",
    "                                 market_index=market_index_dict['NYSE'],\n",
    "                                 label_column_index=0)\n",
    "\n",
    "history['3D_Model'] = compile_and_fit(model_3D, nyse_window.train, nyse_window.test)\n",
    "print('Finished training')"
   ]
  },
  {
   "cell_type": "code",
   "execution_count": 161,
   "metadata": {},
   "outputs": [
    {
     "name": "stdout",
     "output_type": "stream",
     "text": [
      "f1_macro_score for NYSE model: 0.49\n",
      "\n"
     ]
    },
    {
     "data": {
      "image/png": "[encoded data removed]",
      "text/plain": [
       "<Figure size 432x288 with 1 Axes>"
      ]
     },
     "metadata": {
      "needs_background": "light"
     },
     "output_type": "display_data"
    }
   ],
   "source": [
    "f1, pre, rec = results_evaluation(model_3D, nyse_window.val)\n",
    "f1_macro_score['NYSE'] = f1\n",
    "precision['NYSE'] = pre\n",
    "recall['NYSE'] = rec\n",
    "\n",
    "print('f1_macro_score for NYSE model: {:.2f}\\n'.format(f1))\n",
    "\n",
    "plotter = tfdocs.plots.HistoryPlotter(metric = 'accuracy', smoothing_std=0)\n",
    "plotter.plot(history)"
   ]
  },
  {
   "cell_type": "code",
   "execution_count": 162,
   "metadata": {},
   "outputs": [
    {
     "name": "stdout",
     "output_type": "stream",
     "text": [
      "WARNING:tensorflow:Callbacks method `on_train_batch_begin` is slow compared to the batch time (batch time: 0.0080s vs `on_train_batch_begin` time: 0.0140s). Check your callbacks.\n",
      "WARNING:tensorflow:Callbacks method `on_train_batch_end` is slow compared to the batch time (batch time: 0.0080s vs `on_train_batch_end` time: 0.7452s). Check your callbacks.\n",
      "Finished training\n"
     ]
    }
   ],
   "source": [
    "russell_window = WindowGenerator_3D(input_width=60, label_width=1, offset=1,\n",
    "                                    train_matrix=train_matrix, test_matrix=test_matrix, val_matrix=val_matrix,\n",
    "                                    market_index=market_index_dict['RUSSELL'],\n",
    "                                    label_column_index=0)\n",
    "\n",
    "history['3D_Model'] = compile_and_fit(model_3D, russell_window.train, russell_window.test)\n",
    "print('Finished training')"
   ]
  },
  {
   "cell_type": "code",
   "execution_count": 163,
   "metadata": {},
   "outputs": [
    {
     "name": "stdout",
     "output_type": "stream",
     "text": [
      "f1_macro_score for RUSSELL model: 0.50\n",
      "\n"
     ]
    },
    {
     "data": {
      "image/png": "[encoded data removed]",
      "text/plain": [
       "<Figure size 432x288 with 1 Axes>"
      ]
     },
     "metadata": {
      "needs_background": "light"
     },
     "output_type": "display_data"
    }
   ],
   "source": [
    "f1, pre, rec = results_evaluation(model_3D, russell_window.val)\n",
    "f1_macro_score['RUSSELL'] = f1\n",
    "precision['RUSSELL'] = pre\n",
    "recall['RUSSELL'] = rec\n",
    "\n",
    "print('f1_macro_score for RUSSELL model: {:.2f}\\n'.format(f1))\n",
    "\n",
    "plotter = tfdocs.plots.HistoryPlotter(metric = 'accuracy', smoothing_std=0)\n",
    "plotter.plot(history)"
   ]
  },
  {
   "cell_type": "code",
   "execution_count": 166,
   "metadata": {},
   "outputs": [
    {
     "name": "stdout",
     "output_type": "stream",
     "text": [
      "WARNING:tensorflow:Callbacks method `on_train_batch_begin` is slow compared to the batch time (batch time: 0.0060s vs `on_train_batch_begin` time: 0.0100s). Check your callbacks.\n",
      "WARNING:tensorflow:Callbacks method `on_train_batch_end` is slow compared to the batch time (batch time: 0.0060s vs `on_train_batch_end` time: 0.6033s). Check your callbacks.\n",
      "Finished training\n"
     ]
    }
   ],
   "source": [
    "sp_window = WindowGenerator_3D(input_width=60, label_width=1, offset=1,\n",
    "                               train_matrix=train_matrix, test_matrix=test_matrix, val_matrix=val_matrix,\n",
    "                               market_index=market_index_dict['S&P500'],\n",
    "                               label_column_index=0)\n",
    "\n",
    "history['3D_Model'] = compile_and_fit(model_3D, sp_window.train, sp_window.test)\n",
    "print('Finished training')"
   ]
  },
  {
   "cell_type": "code",
   "execution_count": 167,
   "metadata": {},
   "outputs": [
    {
     "name": "stdout",
     "output_type": "stream",
     "text": [
      "f1_macro_score for S&P500 model: 0.51\n",
      "\n"
     ]
    },
    {
     "data": {
      "image/png": "[encoded data removed]",
      "text/plain": [
       "<Figure size 432x288 with 1 Axes>"
      ]
     },
     "metadata": {
      "needs_background": "light"
     },
     "output_type": "display_data"
    }
   ],
   "source": [
    "f1, pre, rec = results_evaluation(model_3D, sp_window.val)\n",
    "f1_macro_score['S&P500'] = f1\n",
    "precision['S&P500'] = pre\n",
    "recall['S&P500'] = rec\n",
    "\n",
    "print('f1_macro_score for S&P500 model: {:.2f}\\n'.format(f1))\n",
    "\n",
    "plotter = tfdocs.plots.HistoryPlotter(metric = 'accuracy', smoothing_std=0)\n",
    "plotter.plot(history)"
   ]
  },
  {
   "cell_type": "code",
   "execution_count": 168,
   "metadata": {},
   "outputs": [
    {
     "name": "stdout",
     "output_type": "stream",
     "text": [
      "3D CNN Model Assessment\n",
      "\n",
      "Average F-Macro Score: 0.50\n",
      "\t DJI : 0.50\n",
      "\t NASDAQ : 0.49\n",
      "\t NYSE : 0.49\n",
      "\t RUSSELL : 0.50\n",
      "\t S&P500 : 0.51\n",
      "\n",
      "Average Precision: 0.51\n",
      "\t DJI : 0.50\n",
      "\t NASDAQ : 0.51\n",
      "\t NYSE : 0.49\n",
      "\t RUSSELL : 0.56\n",
      "\t S&P500 : 0.51\n",
      "\n",
      "Average Recall: 0.51\n",
      "\t DJI : 0.50\n",
      "\t NASDAQ : 0.51\n",
      "\t NYSE : 0.49\n",
      "\t RUSSELL : 0.54\n",
      "\t S&P500 : 0.51\n"
     ]
    }
   ],
   "source": [
    "print('3D CNN Model Assessment')\n",
    "\n",
    "print('\\nAverage F-Macro Score: {:.2f}'.format(np.mean(list(f1_macro_score.values()))))\n",
    "for key, value in f1_macro_score.items():\n",
    "    print('\\t', key, ': {:.2f}'.format(value))\n",
    "\n",
    "print('\\nAverage Precision: {:.2f}'.format(np.mean(list(precision.values()))))\n",
    "for key, value in precision.items():\n",
    "    print('\\t', key, ': {:.2f}'.format(value))\n",
    "\n",
    "print('\\nAverage Recall: {:.2f}'.format(np.mean(list(precision.values()))))\n",
    "for key, value in recall.items():\n",
    "    print('\\t', key, ': {:.2f}'.format(value))"
   ]
  }
 ],
 "metadata": {
  "kernelspec": {
   "display_name": "Python 3",
   "language": "python",
   "name": "python3"
  },
  "language_info": {
   "codemirror_mode": {
    "name": "ipython",
    "version": 3
   },
   "file_extension": ".py",
   "mimetype": "text/x-python",
   "name": "python",
   "nbconvert_exporter": "python",
   "pygments_lexer": "ipython3",
   "version": "3.8.3"
  }
 },
 "nbformat": 4,
 "nbformat_minor": 4
}
